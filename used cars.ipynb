{
 "cells": [
  {
   "cell_type": "code",
   "execution_count": 1,
   "metadata": {},
   "outputs": [],
   "source": [
    "#source for auto save \n",
    "#https://www.webucator.com/blog/2016/03/change-default-autosave-interval-in-ipython-notebook/"
   ]
  },
  {
   "cell_type": "code",
   "execution_count": 1,
   "metadata": {},
   "outputs": [],
   "source": [
    "import numpy as np\n",
    "import pandas as pd\n",
    "import matplotlib.pyplot as plt\n",
    "from sklearn.model_selection import train_test_split\n",
    "import xgboost\n",
    "from xgboost import plot_importance\n",
    "from sklearn.preprocessing import LabelEncoder\n",
    "\n",
    "%matplotlib inline"
   ]
  },
  {
   "cell_type": "code",
   "execution_count": 2,
   "metadata": {},
   "outputs": [],
   "source": [
    "train_df=pd.read_excel('Dataset/Data_Train.xlsx')\n",
    "test_df=pd.read_excel('Dataset/Data_Test.xlsx')\n",
    "x=train_df.iloc[:,0:-1]\n",
    "y=train_df.iloc[:,-1].values\n",
    "x1=test_df.copy()"
   ]
  },
  {
   "cell_type": "code",
   "execution_count": 3,
   "metadata": {},
   "outputs": [
    {
     "data": {
      "text/plain": [
       "0.8631001827546104"
      ]
     },
     "execution_count": 3,
     "metadata": {},
     "output_type": "execute_result"
    }
   ],
   "source": [
    "train_df.New_Price.isnull().sum()/len(train_df.New_Price)"
   ]
  },
  {
   "cell_type": "code",
   "execution_count": 4,
   "metadata": {},
   "outputs": [],
   "source": [
    "train=train_df"
   ]
  },
  {
   "cell_type": "code",
   "execution_count": 5,
   "metadata": {},
   "outputs": [],
   "source": [
    "train['Engine']=pd.to_numeric(train_df[train_df.Engine.notnull()].Engine.str.split(' ').str[0],errors='coerce')"
   ]
  },
  {
   "cell_type": "code",
   "execution_count": 6,
   "metadata": {},
   "outputs": [],
   "source": [
    "train['Power']=pd.to_numeric(train_df[train_df.Power.notnull()].Power.str.split(' ').str[0],errors='coerce')"
   ]
  },
  {
   "cell_type": "code",
   "execution_count": 7,
   "metadata": {},
   "outputs": [
    {
     "data": {
      "image/png": "[encoded data removed]",
      "text/plain": [
       "<Figure size 432x288 with 1 Axes>"
      ]
     },
     "metadata": {
      "needs_background": "light"
     },
     "output_type": "display_data"
    }
   ],
   "source": [
    "fig,ax=plt.subplots()\n",
    "ax.scatter(x = train.Power, y = train.Price)\n",
    "plt.ylabel('SalePrice', fontsize=13)\n",
    "plt.xlabel('POwer', fontsize=13)\n",
    "plt.show()"
   ]
  },
  {
   "cell_type": "code",
   "execution_count": 8,
   "metadata": {},
   "outputs": [
    {
     "data": {
      "text/html": [
       "<div>\n",
       "<style scoped>\n",
       "    .dataframe tbody tr th:only-of-type {\n",
       "        vertical-align: middle;\n",
       "    }\n",
       "\n",
       "    .dataframe tbody tr th {\n",
       "        vertical-align: top;\n",
       "    }\n",
       "\n",
       "    .dataframe thead th {\n",
       "        text-align: right;\n",
       "    }\n",
       "</style>\n",
       "<table border=\"1\" class=\"dataframe\">\n",
       "  <thead>\n",
       "    <tr style=\"text-align: right;\">\n",
       "      <th></th>\n",
       "      <th>Name</th>\n",
       "      <th>Location</th>\n",
       "      <th>Year</th>\n",
       "      <th>Kilometers_Driven</th>\n",
       "      <th>Fuel_Type</th>\n",
       "      <th>Transmission</th>\n",
       "      <th>Owner_Type</th>\n",
       "      <th>Mileage</th>\n",
       "      <th>Engine</th>\n",
       "      <th>Power</th>\n",
       "      <th>Seats</th>\n",
       "      <th>New_Price</th>\n",
       "      <th>Price</th>\n",
       "    </tr>\n",
       "  </thead>\n",
       "  <tbody>\n",
       "    <tr>\n",
       "      <th>0</th>\n",
       "      <td>Maruti Wagon R LXI CNG</td>\n",
       "      <td>Mumbai</td>\n",
       "      <td>2010</td>\n",
       "      <td>72000</td>\n",
       "      <td>CNG</td>\n",
       "      <td>Manual</td>\n",
       "      <td>First</td>\n",
       "      <td>26.6 km/kg</td>\n",
       "      <td>998.0</td>\n",
       "      <td>58.16</td>\n",
       "      <td>5.0</td>\n",
       "      <td>NaN</td>\n",
       "      <td>1.75</td>\n",
       "    </tr>\n",
       "    <tr>\n",
       "      <th>1</th>\n",
       "      <td>Hyundai Creta 1.6 CRDi SX Option</td>\n",
       "      <td>Pune</td>\n",
       "      <td>2015</td>\n",
       "      <td>41000</td>\n",
       "      <td>Diesel</td>\n",
       "      <td>Manual</td>\n",
       "      <td>First</td>\n",
       "      <td>19.67 kmpl</td>\n",
       "      <td>1582.0</td>\n",
       "      <td>126.20</td>\n",
       "      <td>5.0</td>\n",
       "      <td>NaN</td>\n",
       "      <td>12.50</td>\n",
       "    </tr>\n",
       "    <tr>\n",
       "      <th>2</th>\n",
       "      <td>Honda Jazz V</td>\n",
       "      <td>Chennai</td>\n",
       "      <td>2011</td>\n",
       "      <td>46000</td>\n",
       "      <td>Petrol</td>\n",
       "      <td>Manual</td>\n",
       "      <td>First</td>\n",
       "      <td>18.2 kmpl</td>\n",
       "      <td>1199.0</td>\n",
       "      <td>88.70</td>\n",
       "      <td>5.0</td>\n",
       "      <td>8.61 Lakh</td>\n",
       "      <td>4.50</td>\n",
       "    </tr>\n",
       "    <tr>\n",
       "      <th>3</th>\n",
       "      <td>Maruti Ertiga VDI</td>\n",
       "      <td>Chennai</td>\n",
       "      <td>2012</td>\n",
       "      <td>87000</td>\n",
       "      <td>Diesel</td>\n",
       "      <td>Manual</td>\n",
       "      <td>First</td>\n",
       "      <td>20.77 kmpl</td>\n",
       "      <td>1248.0</td>\n",
       "      <td>88.76</td>\n",
       "      <td>7.0</td>\n",
       "      <td>NaN</td>\n",
       "      <td>6.00</td>\n",
       "    </tr>\n",
       "    <tr>\n",
       "      <th>4</th>\n",
       "      <td>Audi A4 New 2.0 TDI Multitronic</td>\n",
       "      <td>Coimbatore</td>\n",
       "      <td>2013</td>\n",
       "      <td>40670</td>\n",
       "      <td>Diesel</td>\n",
       "      <td>Automatic</td>\n",
       "      <td>Second</td>\n",
       "      <td>15.2 kmpl</td>\n",
       "      <td>1968.0</td>\n",
       "      <td>140.80</td>\n",
       "      <td>5.0</td>\n",
       "      <td>NaN</td>\n",
       "      <td>17.74</td>\n",
       "    </tr>\n",
       "  </tbody>\n",
       "</table>\n",
       "</div>"
      ],
      "text/plain": [
       "                               Name    Location  Year  Kilometers_Driven  \\\n",
       "0            Maruti Wagon R LXI CNG      Mumbai  2010              72000   \n",
       "1  Hyundai Creta 1.6 CRDi SX Option        Pune  2015              41000   \n",
       "2                      Honda Jazz V     Chennai  2011              46000   \n",
       "3                 Maruti Ertiga VDI     Chennai  2012              87000   \n",
       "4   Audi A4 New 2.0 TDI Multitronic  Coimbatore  2013              40670   \n",
       "\n",
       "  Fuel_Type Transmission Owner_Type     Mileage  Engine   Power  Seats  \\\n",
       "0       CNG       Manual      First  26.6 km/kg   998.0   58.16    5.0   \n",
       "1    Diesel       Manual      First  19.67 kmpl  1582.0  126.20    5.0   \n",
       "2    Petrol       Manual      First   18.2 kmpl  1199.0   88.70    5.0   \n",
       "3    Diesel       Manual      First  20.77 kmpl  1248.0   88.76    7.0   \n",
       "4    Diesel    Automatic     Second   15.2 kmpl  1968.0  140.80    5.0   \n",
       "\n",
       "   New_Price  Price  \n",
       "0        NaN   1.75  \n",
       "1        NaN  12.50  \n",
       "2  8.61 Lakh   4.50  \n",
       "3        NaN   6.00  \n",
       "4        NaN  17.74  "
      ]
     },
     "execution_count": 8,
     "metadata": {},
     "output_type": "execute_result"
    }
   ],
   "source": [
    "train_df.head()"
   ]
  },
  {
   "cell_type": "code",
   "execution_count": 9,
   "metadata": {},
   "outputs": [
    {
     "data": {
      "text/plain": [
       "0"
      ]
     },
     "execution_count": 9,
     "metadata": {},
     "output_type": "execute_result"
    }
   ],
   "source": [
    "train_df.Price.isnull().sum()\n"
   ]
  },
  {
   "cell_type": "markdown",
   "metadata": {},
   "source": [
    "#### 86% of new price value is nan so we drop that col in train"
   ]
  },
  {
   "cell_type": "code",
   "execution_count": 10,
   "metadata": {},
   "outputs": [
    {
     "data": {
      "text/plain": [
       "0.8631001827546104"
      ]
     },
     "execution_count": 10,
     "metadata": {},
     "output_type": "execute_result"
    }
   ],
   "source": [
    "x.New_Price.isnull().sum()/x.shape[0]"
   ]
  },
  {
   "cell_type": "code",
   "execution_count": 11,
   "metadata": {},
   "outputs": [
    {
     "data": {
      "text/plain": [
       "(6019, 12)"
      ]
     },
     "execution_count": 11,
     "metadata": {},
     "output_type": "execute_result"
    }
   ],
   "source": [
    "x.shape"
   ]
  },
  {
   "cell_type": "markdown",
   "metadata": {},
   "source": [
    "#### 85% of new price value is nan so we drop that col in test"
   ]
  },
  {
   "cell_type": "code",
   "execution_count": 12,
   "metadata": {},
   "outputs": [
    {
     "data": {
      "text/plain": [
       "0.8525121555915721"
      ]
     },
     "execution_count": 12,
     "metadata": {},
     "output_type": "execute_result"
    }
   ],
   "source": [
    "x1.New_Price.isnull().sum()/x1.shape[0]"
   ]
  },
  {
   "cell_type": "code",
   "execution_count": 13,
   "metadata": {},
   "outputs": [],
   "source": [
    "x.drop(columns=['New_Price'],inplace=True)\n",
    "x1.drop(columns='New_Price',inplace=True)\n"
   ]
  },
  {
   "cell_type": "code",
   "execution_count": 14,
   "metadata": {},
   "outputs": [],
   "source": [
    "#source for s.str.split(expand=True)\n",
    "#https://pandas.pydata.org/pandas-docs/stable/reference/api/pandas.Series.str.split.html\n",
    "\n",
    "#source for spliting name into two seperate col\n",
    "#df[['First','Last']] = df.Name.str.split(\" \",expand=True,)\n",
    "#http://cmdlinetips.com/2018/11/how-to-split-a-text-column-in-pandas/\n",
    "\n",
    "\n",
    "x[['Brand','Model']]=x.Name.str.split(\" \",n=1,expand=True)\n",
    "x.drop(columns='Name',inplace=True)\n",
    "\n",
    "x1[['Brand','Model']]=x1.Name.str.split(\" \",n=1,expand=True)\n",
    "x1.drop(columns='Name',inplace=True)\n",
    "\n",
    "col=x.columns.to_list()\n",
    "col=col[-2:]+col[:-2]\n",
    "x=x[col]\n",
    "x1=x1[col]"
   ]
  },
  {
   "cell_type": "code",
   "execution_count": 15,
   "metadata": {},
   "outputs": [],
   "source": [
    "# kmkg='km/kg'\n",
    "# x1[x1.Mileage.str.split(' ').str[1]=='km/kg']"
   ]
  },
  {
   "cell_type": "code",
   "execution_count": 16,
   "metadata": {},
   "outputs": [],
   "source": [
    "def string_mani(val):\n",
    "    if(val.split(' ')[1]=='km/kg'):\n",
    "        return float(val.split(' ')[0])*0.425143707\n",
    "    elif(val!=np.nan):\n",
    "        return float(val.split(' ')[0])\n",
    "    else:\n",
    "        return val"
   ]
  },
  {
   "cell_type": "code",
   "execution_count": 17,
   "metadata": {},
   "outputs": [],
   "source": [
    "x1.Mileage=x1.Mileage.apply(lambda x:string_mani(x))\n",
    "x1.Mileage=x1.Mileage.astype(np.float32)"
   ]
  },
  {
   "cell_type": "markdown",
   "metadata": {},
   "source": [
    "#### here some values are nan so skip those"
   ]
  },
  {
   "cell_type": "code",
   "execution_count": 18,
   "metadata": {},
   "outputs": [],
   "source": [
    "x.Mileage=x.Mileage[x.Mileage.notnull()].apply(lambda x:string_mani(x))\n",
    "x.Mileage=x.Mileage.astype(np.float32)"
   ]
  },
  {
   "cell_type": "code",
   "execution_count": 19,
   "metadata": {},
   "outputs": [
    {
     "name": "stdout",
     "output_type": "stream",
     "text": [
      "<class 'pandas.core.frame.DataFrame'>\n",
      "RangeIndex: 6019 entries, 0 to 6018\n",
      "Data columns (total 12 columns):\n",
      "Brand                6019 non-null object\n",
      "Model                6019 non-null object\n",
      "Location             6019 non-null object\n",
      "Year                 6019 non-null int64\n",
      "Kilometers_Driven    6019 non-null int64\n",
      "Fuel_Type            6019 non-null object\n",
      "Transmission         6019 non-null object\n",
      "Owner_Type           6019 non-null object\n",
      "Mileage              6017 non-null float32\n",
      "Engine               5983 non-null object\n",
      "Power                5983 non-null object\n",
      "Seats                5977 non-null float64\n",
      "dtypes: float32(1), float64(1), int64(2), object(8)\n",
      "memory usage: 540.8+ KB\n"
     ]
    }
   ],
   "source": [
    "x.info()"
   ]
  },
  {
   "cell_type": "markdown",
   "metadata": {},
   "source": [
    "**check if power and engine also has sepearate units and its having unique unit so no problem**"
   ]
  },
  {
   "cell_type": "code",
   "execution_count": 20,
   "metadata": {},
   "outputs": [
    {
     "name": "stdout",
     "output_type": "stream",
     "text": [
      "{'bhp'}\n",
      "{'CC'}\n"
     ]
    }
   ],
   "source": [
    "print(set(x[x.Power.notnull()].Power.apply(lambda x: x.split(' ')[1])))\n",
    "print(set(x[x.Engine.notnull()].Engine.apply(lambda x: x.split(' ')[1])))"
   ]
  },
  {
   "cell_type": "code",
   "execution_count": 21,
   "metadata": {},
   "outputs": [],
   "source": [
    "x1[['Power','Engine']]=x1[['Power','Engine']].apply(lambda x: x.str.split(' ').str[0])"
   ]
  },
  {
   "cell_type": "code",
   "execution_count": 22,
   "metadata": {},
   "outputs": [],
   "source": [
    "x[['Power','Engine']]=x[['Power','Engine']].apply(lambda x: x.str.split(' ').str[0])"
   ]
  },
  {
   "cell_type": "code",
   "execution_count": 23,
   "metadata": {},
   "outputs": [],
   "source": [
    "x.Mileage=pd.to_numeric(x.Mileage)\n",
    "x.Power=pd.to_numeric(x.Power,errors='coerce')\n",
    "x.Engine=pd.to_numeric(x.Engine,errors='coerce')\n",
    "\n",
    "x1.Mileage=pd.to_numeric(x1.Mileage)\n",
    "x1.Power=pd.to_numeric(x1.Power,errors='coerce')\n",
    "x1.Engine=pd.to_numeric(x1.Engine,errors='coerce')"
   ]
  },
  {
   "cell_type": "code",
   "execution_count": 24,
   "metadata": {},
   "outputs": [
    {
     "data": {
      "text/plain": [
       "Brand                  0\n",
       "Model                  0\n",
       "Location               0\n",
       "Year                   0\n",
       "Kilometers_Driven      0\n",
       "Fuel_Type              0\n",
       "Transmission           0\n",
       "Owner_Type             0\n",
       "Mileage                2\n",
       "Engine                36\n",
       "Power                143\n",
       "Seats                 42\n",
       "dtype: int64"
      ]
     },
     "execution_count": 24,
     "metadata": {},
     "output_type": "execute_result"
    }
   ],
   "source": [
    "x.isnull().sum()"
   ]
  },
  {
   "cell_type": "code",
   "execution_count": 25,
   "metadata": {},
   "outputs": [
    {
     "data": {
      "text/plain": [
       "Brand                 0\n",
       "Model                 0\n",
       "Location              0\n",
       "Year                  0\n",
       "Kilometers_Driven     0\n",
       "Fuel_Type             0\n",
       "Transmission          0\n",
       "Owner_Type            0\n",
       "Mileage               0\n",
       "Engine               10\n",
       "Power                32\n",
       "Seats                11\n",
       "dtype: int64"
      ]
     },
     "execution_count": 25,
     "metadata": {},
     "output_type": "execute_result"
    }
   ],
   "source": [
    "x1.isnull().sum()"
   ]
  },
  {
   "cell_type": "code",
   "execution_count": 26,
   "metadata": {},
   "outputs": [
    {
     "name": "stdout",
     "output_type": "stream",
     "text": [
      "<class 'pandas.core.frame.DataFrame'>\n",
      "RangeIndex: 6019 entries, 0 to 6018\n",
      "Data columns (total 12 columns):\n",
      "Brand                6019 non-null object\n",
      "Model                6019 non-null object\n",
      "Location             6019 non-null object\n",
      "Year                 6019 non-null int64\n",
      "Kilometers_Driven    6019 non-null int64\n",
      "Fuel_Type            6019 non-null object\n",
      "Transmission         6019 non-null object\n",
      "Owner_Type           6019 non-null object\n",
      "Mileage              6017 non-null float32\n",
      "Engine               5983 non-null float64\n",
      "Power                5876 non-null float64\n",
      "Seats                5977 non-null float64\n",
      "dtypes: float32(1), float64(3), int64(2), object(6)\n",
      "memory usage: 540.8+ KB\n"
     ]
    }
   ],
   "source": [
    "x.info()"
   ]
  },
  {
   "cell_type": "code",
   "execution_count": 27,
   "metadata": {},
   "outputs": [
    {
     "name": "stdout",
     "output_type": "stream",
     "text": [
      "<class 'pandas.core.frame.DataFrame'>\n",
      "RangeIndex: 1234 entries, 0 to 1233\n",
      "Data columns (total 12 columns):\n",
      "Brand                1234 non-null object\n",
      "Model                1234 non-null object\n",
      "Location             1234 non-null object\n",
      "Year                 1234 non-null int64\n",
      "Kilometers_Driven    1234 non-null int64\n",
      "Fuel_Type            1234 non-null object\n",
      "Transmission         1234 non-null object\n",
      "Owner_Type           1234 non-null object\n",
      "Mileage              1234 non-null float32\n",
      "Engine               1224 non-null float64\n",
      "Power                1202 non-null float64\n",
      "Seats                1223 non-null float64\n",
      "dtypes: float32(1), float64(3), int64(2), object(6)\n",
      "memory usage: 110.9+ KB\n"
     ]
    }
   ],
   "source": [
    "x1.info()"
   ]
  },
  {
   "cell_type": "code",
   "execution_count": 28,
   "metadata": {},
   "outputs": [
    {
     "data": {
      "text/html": [
       "<div>\n",
       "<style scoped>\n",
       "    .dataframe tbody tr th:only-of-type {\n",
       "        vertical-align: middle;\n",
       "    }\n",
       "\n",
       "    .dataframe tbody tr th {\n",
       "        vertical-align: top;\n",
       "    }\n",
       "\n",
       "    .dataframe thead th {\n",
       "        text-align: right;\n",
       "    }\n",
       "</style>\n",
       "<table border=\"1\" class=\"dataframe\">\n",
       "  <thead>\n",
       "    <tr style=\"text-align: right;\">\n",
       "      <th></th>\n",
       "      <th></th>\n",
       "      <th>Location</th>\n",
       "      <th>Year</th>\n",
       "      <th>Kilometers_Driven</th>\n",
       "      <th>Fuel_Type</th>\n",
       "      <th>Transmission</th>\n",
       "      <th>Owner_Type</th>\n",
       "      <th>Mileage</th>\n",
       "      <th>Engine</th>\n",
       "      <th>Power</th>\n",
       "      <th>Seats</th>\n",
       "    </tr>\n",
       "    <tr>\n",
       "      <th>Brand</th>\n",
       "      <th>Model</th>\n",
       "      <th></th>\n",
       "      <th></th>\n",
       "      <th></th>\n",
       "      <th></th>\n",
       "      <th></th>\n",
       "      <th></th>\n",
       "      <th></th>\n",
       "      <th></th>\n",
       "      <th></th>\n",
       "      <th></th>\n",
       "    </tr>\n",
       "  </thead>\n",
       "  <tbody>\n",
       "    <tr>\n",
       "      <th>Ambassador</th>\n",
       "      <th>Classic Nova Diesel</th>\n",
       "      <td>Chennai</td>\n",
       "      <td>2003</td>\n",
       "      <td>80000</td>\n",
       "      <td>Diesel</td>\n",
       "      <td>Manual</td>\n",
       "      <td>Third</td>\n",
       "      <td>12.800000</td>\n",
       "      <td>1489.0</td>\n",
       "      <td>35.5</td>\n",
       "      <td>5.0</td>\n",
       "    </tr>\n",
       "    <tr>\n",
       "      <th rowspan=\"4\" valign=\"top\">Audi</th>\n",
       "      <th>A3 35 TDI Attraction</th>\n",
       "      <td>Chennai</td>\n",
       "      <td>2014</td>\n",
       "      <td>79271</td>\n",
       "      <td>Diesel</td>\n",
       "      <td>Automatic</td>\n",
       "      <td>First</td>\n",
       "      <td>20.379999</td>\n",
       "      <td>1968.0</td>\n",
       "      <td>143.0</td>\n",
       "      <td>5.0</td>\n",
       "    </tr>\n",
       "    <tr>\n",
       "      <th>A3 35 TDI Premium</th>\n",
       "      <td>Mumbai</td>\n",
       "      <td>2016</td>\n",
       "      <td>20003</td>\n",
       "      <td>Diesel</td>\n",
       "      <td>Automatic</td>\n",
       "      <td>First</td>\n",
       "      <td>20.379999</td>\n",
       "      <td>1968.0</td>\n",
       "      <td>143.0</td>\n",
       "      <td>5.0</td>\n",
       "    </tr>\n",
       "    <tr>\n",
       "      <th>A3 35 TDI Premium Plus</th>\n",
       "      <td>Mumbai</td>\n",
       "      <td>2016</td>\n",
       "      <td>39000</td>\n",
       "      <td>Diesel</td>\n",
       "      <td>Automatic</td>\n",
       "      <td>First</td>\n",
       "      <td>20.379999</td>\n",
       "      <td>1968.0</td>\n",
       "      <td>143.0</td>\n",
       "      <td>5.0</td>\n",
       "    </tr>\n",
       "    <tr>\n",
       "      <th>A3 35 TDI Technology</th>\n",
       "      <td>Delhi</td>\n",
       "      <td>2017</td>\n",
       "      <td>22000</td>\n",
       "      <td>Diesel</td>\n",
       "      <td>Automatic</td>\n",
       "      <td>Second</td>\n",
       "      <td>20.379999</td>\n",
       "      <td>1968.0</td>\n",
       "      <td>143.0</td>\n",
       "      <td>5.0</td>\n",
       "    </tr>\n",
       "  </tbody>\n",
       "</table>\n",
       "</div>"
      ],
      "text/plain": [
       "                                  Location  Year  Kilometers_Driven Fuel_Type  \\\n",
       "Brand      Model                                                                \n",
       "Ambassador Classic Nova Diesel     Chennai  2003              80000    Diesel   \n",
       "Audi       A3 35 TDI Attraction    Chennai  2014              79271    Diesel   \n",
       "           A3 35 TDI Premium        Mumbai  2016              20003    Diesel   \n",
       "           A3 35 TDI Premium Plus   Mumbai  2016              39000    Diesel   \n",
       "           A3 35 TDI Technology      Delhi  2017              22000    Diesel   \n",
       "\n",
       "                                  Transmission Owner_Type    Mileage  Engine  \\\n",
       "Brand      Model                                                               \n",
       "Ambassador Classic Nova Diesel          Manual      Third  12.800000  1489.0   \n",
       "Audi       A3 35 TDI Attraction      Automatic      First  20.379999  1968.0   \n",
       "           A3 35 TDI Premium         Automatic      First  20.379999  1968.0   \n",
       "           A3 35 TDI Premium Plus    Automatic      First  20.379999  1968.0   \n",
       "           A3 35 TDI Technology      Automatic     Second  20.379999  1968.0   \n",
       "\n",
       "                                   Power  Seats  \n",
       "Brand      Model                                 \n",
       "Ambassador Classic Nova Diesel      35.5    5.0  \n",
       "Audi       A3 35 TDI Attraction    143.0    5.0  \n",
       "           A3 35 TDI Premium       143.0    5.0  \n",
       "           A3 35 TDI Premium Plus  143.0    5.0  \n",
       "           A3 35 TDI Technology    143.0    5.0  "
      ]
     },
     "execution_count": 28,
     "metadata": {},
     "output_type": "execute_result"
    }
   ],
   "source": [
    "x.groupby(by=['Brand','Model']).first().head()"
   ]
  },
  {
   "cell_type": "code",
   "execution_count": 29,
   "metadata": {},
   "outputs": [
    {
     "data": {
      "text/plain": [
       "Brand                   Mahindra\n",
       "Model                E Verito D4\n",
       "Location                 Chennai\n",
       "Year                        2016\n",
       "Kilometers_Driven          50000\n",
       "Fuel_Type               Electric\n",
       "Transmission           Automatic\n",
       "Owner_Type                 First\n",
       "Mileage                      NaN\n",
       "Engine                        72\n",
       "Power                         41\n",
       "Seats                          5\n",
       "Name: 4446, dtype: object"
      ]
     },
     "execution_count": 29,
     "metadata": {},
     "output_type": "execute_result"
    }
   ],
   "source": [
    "x.loc[4446,:]"
   ]
  },
  {
   "cell_type": "code",
   "execution_count": 30,
   "metadata": {},
   "outputs": [
    {
     "data": {
      "text/html": [
       "<div>\n",
       "<style scoped>\n",
       "    .dataframe tbody tr th:only-of-type {\n",
       "        vertical-align: middle;\n",
       "    }\n",
       "\n",
       "    .dataframe tbody tr th {\n",
       "        vertical-align: top;\n",
       "    }\n",
       "\n",
       "    .dataframe thead th {\n",
       "        text-align: right;\n",
       "    }\n",
       "</style>\n",
       "<table border=\"1\" class=\"dataframe\">\n",
       "  <thead>\n",
       "    <tr style=\"text-align: right;\">\n",
       "      <th></th>\n",
       "      <th>Name</th>\n",
       "      <th>Location</th>\n",
       "      <th>Year</th>\n",
       "      <th>Kilometers_Driven</th>\n",
       "      <th>Fuel_Type</th>\n",
       "      <th>Transmission</th>\n",
       "      <th>Owner_Type</th>\n",
       "      <th>Mileage</th>\n",
       "      <th>Engine</th>\n",
       "      <th>Power</th>\n",
       "      <th>Seats</th>\n",
       "      <th>New_Price</th>\n",
       "      <th>Price</th>\n",
       "    </tr>\n",
       "  </thead>\n",
       "  <tbody>\n",
       "    <tr>\n",
       "      <th>4446</th>\n",
       "      <td>Mahindra E Verito D4</td>\n",
       "      <td>Chennai</td>\n",
       "      <td>2016</td>\n",
       "      <td>50000</td>\n",
       "      <td>Electric</td>\n",
       "      <td>Automatic</td>\n",
       "      <td>First</td>\n",
       "      <td>NaN</td>\n",
       "      <td>72.0</td>\n",
       "      <td>41.0</td>\n",
       "      <td>5.0</td>\n",
       "      <td>13.58 Lakh</td>\n",
       "      <td>13.00</td>\n",
       "    </tr>\n",
       "    <tr>\n",
       "      <th>4904</th>\n",
       "      <td>Toyota Prius 2009-2016 Z4</td>\n",
       "      <td>Mumbai</td>\n",
       "      <td>2011</td>\n",
       "      <td>44000</td>\n",
       "      <td>Electric</td>\n",
       "      <td>Automatic</td>\n",
       "      <td>First</td>\n",
       "      <td>NaN</td>\n",
       "      <td>1798.0</td>\n",
       "      <td>73.0</td>\n",
       "      <td>5.0</td>\n",
       "      <td>NaN</td>\n",
       "      <td>12.75</td>\n",
       "    </tr>\n",
       "  </tbody>\n",
       "</table>\n",
       "</div>"
      ],
      "text/plain": [
       "                           Name Location  Year  Kilometers_Driven Fuel_Type  \\\n",
       "4446       Mahindra E Verito D4  Chennai  2016              50000  Electric   \n",
       "4904  Toyota Prius 2009-2016 Z4   Mumbai  2011              44000  Electric   \n",
       "\n",
       "     Transmission Owner_Type Mileage  Engine  Power  Seats   New_Price  Price  \n",
       "4446    Automatic      First     NaN    72.0   41.0    5.0  13.58 Lakh  13.00  \n",
       "4904    Automatic      First     NaN  1798.0   73.0    5.0         NaN  12.75  "
      ]
     },
     "execution_count": 30,
     "metadata": {},
     "output_type": "execute_result"
    }
   ],
   "source": [
    "train[train.Mileage.isnull()]"
   ]
  },
  {
   "cell_type": "code",
   "execution_count": 31,
   "metadata": {},
   "outputs": [],
   "source": [
    "# x.Mileage.value_counts().sort_index()"
   ]
  },
  {
   "cell_type": "markdown",
   "metadata": {},
   "source": [
    "**fill mileage column having 68 rows having 0 with np.nan**"
   ]
  },
  {
   "cell_type": "code",
   "execution_count": 32,
   "metadata": {},
   "outputs": [],
   "source": [
    "x.Mileage=x.Mileage.apply(lambda x: np.nan if x<1 else x)"
   ]
  },
  {
   "cell_type": "code",
   "execution_count": 33,
   "metadata": {},
   "outputs": [],
   "source": [
    "x['Mileage'] = x.groupby(['Brand','Model'])['Mileage'].transform(lambda x: x.fillna(x.median()))\n",
    "x['Power'] = x.groupby(['Brand','Model'])['Power'].transform(lambda x: x.fillna(x.median()))\n",
    "x['Engine'] = x.groupby(['Brand','Model'])['Engine'].transform(lambda x: x.fillna(x.median()))\n",
    "x['Seats'] = x.groupby(['Brand','Model'])['Seats'].transform(lambda x: x.fillna(x.median()))"
   ]
  },
  {
   "cell_type": "code",
   "execution_count": 34,
   "metadata": {},
   "outputs": [],
   "source": [
    "x1['Mileage'] = x1.groupby(['Brand','Model'])['Mileage'].transform(lambda x: x.fillna(x.median()))\n",
    "x1['Power'] = x1.groupby(['Brand','Model'])['Power'].transform(lambda x: x.fillna(x.median()))\n",
    "x1['Engine'] = x1.groupby(['Brand','Model'])['Engine'].transform(lambda x: x.fillna(x.median()))\n",
    "x1['Seats'] = x1.groupby(['Brand','Model'])['Seats'].transform(lambda x: x.fillna(x.median()))"
   ]
  },
  {
   "cell_type": "markdown",
   "metadata": {},
   "source": [
    "**here still the nan persists**\n"
   ]
  },
  {
   "cell_type": "code",
   "execution_count": 35,
   "metadata": {},
   "outputs": [],
   "source": [
    "x['Mileage'] =x.groupby(['Brand','Fuel_Type','Transmission'])['Mileage'].transform(lambda x: x.fillna(x.median()))\n",
    "x['Power'] = x.groupby([ 'Brand','Fuel_Type','Transmission'])['Power'].transform(lambda x: x.fillna(x.median()))\n",
    "x['Engine'] = x.groupby(['Brand','Fuel_Type','Transmission'])['Engine'].transform(lambda x: x.fillna(x.median()))\n",
    "x['Seats'] = x.groupby([ 'Brand','Fuel_Type','Transmission'])['Seats'].transform(lambda x: x.fillna(x.median()))"
   ]
  },
  {
   "cell_type": "code",
   "execution_count": 36,
   "metadata": {},
   "outputs": [],
   "source": [
    "x1['Mileage'] =x1.groupby(['Brand','Fuel_Type','Transmission'])['Mileage'].transform(lambda x: x.fillna(x.median()))\n",
    "x1['Power'] =  x1.groupby([ 'Brand','Fuel_Type','Transmission'])['Power'].transform(lambda x: x.fillna(x.median()))\n",
    "x1['Engine'] = x1.groupby(['Brand','Fuel_Type','Transmission'])['Engine'].transform(lambda x: x.fillna(x.median()))\n",
    "x1['Seats'] =  x1.groupby([ 'Brand','Fuel_Type','Transmission'])['Seats'].transform(lambda x: x.fillna(x.median()))"
   ]
  },
  {
   "cell_type": "markdown",
   "metadata": {},
   "source": [
    "**even now exixts one or 2**"
   ]
  },
  {
   "cell_type": "code",
   "execution_count": 37,
   "metadata": {},
   "outputs": [],
   "source": [
    "x['Mileage'] =x.groupby(['Brand'])['Mileage'].transform(lambda x: x.fillna(x.median()))\n",
    "x['Power'] = x.groupby([ 'Brand'])['Power'].transform(lambda x: x.fillna(x.median()))\n",
    "x['Engine'] = x.groupby(['Brand'])['Engine'].transform(lambda x: x.fillna(x.median()))\n",
    "x['Seats'] = x.groupby([ 'Brand'])['Seats'].transform(lambda x: x.fillna(x.median()))\n",
    "\n"
   ]
  },
  {
   "cell_type": "code",
   "execution_count": 38,
   "metadata": {},
   "outputs": [],
   "source": [
    "x1['Mileage'] =x1.groupby(['Brand'])['Mileage'].transform(lambda x: x.fillna(x.median()))\n",
    "x1['Power'] =  x1.groupby(['Brand'])['Power'].transform(lambda x: x.fillna(x.median()))\n",
    "x1['Engine'] = x1.groupby(['Brand'])['Engine'].transform(lambda x: x.fillna(x.median()))\n",
    "x1['Seats'] =  x1.groupby(['Brand'])['Seats'].transform(lambda x: x.fillna(x.median()))\n"
   ]
  },
  {
   "cell_type": "code",
   "execution_count": 39,
   "metadata": {},
   "outputs": [],
   "source": [
    "x1['Power'] =  x1.Power.transform(lambda x: x.fillna(x.median()))\n",
    "x['Power'] = x.Power.transform(lambda x: x.fillna(x.median()))"
   ]
  },
  {
   "cell_type": "code",
   "execution_count": 40,
   "metadata": {},
   "outputs": [
    {
     "data": {
      "text/plain": [
       "Series([], Name: Mileage, dtype: float64)"
      ]
     },
     "execution_count": 40,
     "metadata": {},
     "output_type": "execute_result"
    }
   ],
   "source": [
    "x[x.Mileage<5].Mileage"
   ]
  },
  {
   "cell_type": "code",
   "execution_count": 41,
   "metadata": {},
   "outputs": [
    {
     "data": {
      "image/png": "[encoded data removed]",
      "text/plain": [
       "<Figure size 432x288 with 1 Axes>"
      ]
     },
     "metadata": {
      "needs_background": "light"
     },
     "output_type": "display_data"
    }
   ],
   "source": [
    "fig,ax=plt.subplots()\n",
    "ax.scatter(x = x.Mileage, y = train.Price)\n",
    "plt.ylabel('SalePrice', fontsize=13)\n",
    "plt.xlabel('Mileage', fontsize=13)\n",
    "plt.show()"
   ]
  },
  {
   "cell_type": "code",
   "execution_count": 42,
   "metadata": {},
   "outputs": [],
   "source": [
    "x['train']=1\n",
    "x1['train']=0"
   ]
  },
  {
   "cell_type": "code",
   "execution_count": 43,
   "metadata": {},
   "outputs": [],
   "source": [
    "combined=pd.concat([x,x1])"
   ]
  },
  {
   "cell_type": "code",
   "execution_count": 44,
   "metadata": {},
   "outputs": [
    {
     "data": {
      "text/plain": [
       "['Brand', 'Model', 'Location', 'Fuel_Type', 'Transmission', 'Owner_Type']"
      ]
     },
     "execution_count": 44,
     "metadata": {},
     "output_type": "execute_result"
    }
   ],
   "source": [
    "categorical_feature_mask = combined.dtypes==object\n",
    "categorical_cols = combined.columns[categorical_feature_mask].tolist()\n",
    "categorical_cols"
   ]
  },
  {
   "cell_type": "code",
   "execution_count": 45,
   "metadata": {},
   "outputs": [
    {
     "data": {
      "text/html": [
       "<div>\n",
       "<style scoped>\n",
       "    .dataframe tbody tr th:only-of-type {\n",
       "        vertical-align: middle;\n",
       "    }\n",
       "\n",
       "    .dataframe tbody tr th {\n",
       "        vertical-align: top;\n",
       "    }\n",
       "\n",
       "    .dataframe thead th {\n",
       "        text-align: right;\n",
       "    }\n",
       "</style>\n",
       "<table border=\"1\" class=\"dataframe\">\n",
       "  <thead>\n",
       "    <tr style=\"text-align: right;\">\n",
       "      <th></th>\n",
       "      <th>Brand</th>\n",
       "      <th>Model</th>\n",
       "      <th>Location</th>\n",
       "      <th>Fuel_Type</th>\n",
       "      <th>Transmission</th>\n",
       "      <th>Owner_Type</th>\n",
       "    </tr>\n",
       "  </thead>\n",
       "  <tbody>\n",
       "    <tr>\n",
       "      <th>0</th>\n",
       "      <td>19</td>\n",
       "      <td>1797</td>\n",
       "      <td>9</td>\n",
       "      <td>0</td>\n",
       "      <td>1</td>\n",
       "      <td>0</td>\n",
       "    </tr>\n",
       "    <tr>\n",
       "      <th>1</th>\n",
       "      <td>11</td>\n",
       "      <td>498</td>\n",
       "      <td>10</td>\n",
       "      <td>1</td>\n",
       "      <td>1</td>\n",
       "      <td>0</td>\n",
       "    </tr>\n",
       "    <tr>\n",
       "      <th>2</th>\n",
       "      <td>10</td>\n",
       "      <td>993</td>\n",
       "      <td>2</td>\n",
       "      <td>4</td>\n",
       "      <td>1</td>\n",
       "      <td>0</td>\n",
       "    </tr>\n",
       "    <tr>\n",
       "      <th>3</th>\n",
       "      <td>19</td>\n",
       "      <td>676</td>\n",
       "      <td>2</td>\n",
       "      <td>1</td>\n",
       "      <td>1</td>\n",
       "      <td>0</td>\n",
       "    </tr>\n",
       "    <tr>\n",
       "      <th>4</th>\n",
       "      <td>1</td>\n",
       "      <td>105</td>\n",
       "      <td>3</td>\n",
       "      <td>1</td>\n",
       "      <td>0</td>\n",
       "      <td>2</td>\n",
       "    </tr>\n",
       "    <tr>\n",
       "      <th>5</th>\n",
       "      <td>11</td>\n",
       "      <td>591</td>\n",
       "      <td>5</td>\n",
       "      <td>3</td>\n",
       "      <td>1</td>\n",
       "      <td>0</td>\n",
       "    </tr>\n",
       "    <tr>\n",
       "      <th>6</th>\n",
       "      <td>23</td>\n",
       "      <td>1101</td>\n",
       "      <td>6</td>\n",
       "      <td>1</td>\n",
       "      <td>1</td>\n",
       "      <td>0</td>\n",
       "    </tr>\n",
       "    <tr>\n",
       "      <th>7</th>\n",
       "      <td>30</td>\n",
       "      <td>973</td>\n",
       "      <td>9</td>\n",
       "      <td>1</td>\n",
       "      <td>0</td>\n",
       "      <td>0</td>\n",
       "    </tr>\n",
       "    <tr>\n",
       "      <th>8</th>\n",
       "      <td>31</td>\n",
       "      <td>1699</td>\n",
       "      <td>10</td>\n",
       "      <td>1</td>\n",
       "      <td>1</td>\n",
       "      <td>0</td>\n",
       "    </tr>\n",
       "    <tr>\n",
       "      <th>9</th>\n",
       "      <td>29</td>\n",
       "      <td>908</td>\n",
       "      <td>2</td>\n",
       "      <td>1</td>\n",
       "      <td>1</td>\n",
       "      <td>2</td>\n",
       "    </tr>\n",
       "  </tbody>\n",
       "</table>\n",
       "</div>"
      ],
      "text/plain": [
       "   Brand  Model  Location  Fuel_Type  Transmission  Owner_Type\n",
       "0     19   1797         9          0             1           0\n",
       "1     11    498        10          1             1           0\n",
       "2     10    993         2          4             1           0\n",
       "3     19    676         2          1             1           0\n",
       "4      1    105         3          1             0           2\n",
       "5     11    591         5          3             1           0\n",
       "6     23   1101         6          1             1           0\n",
       "7     30    973         9          1             0           0\n",
       "8     31   1699        10          1             1           0\n",
       "9     29    908         2          1             1           2"
      ]
     },
     "execution_count": 45,
     "metadata": {},
     "output_type": "execute_result"
    }
   ],
   "source": [
    "le = LabelEncoder()\n",
    "\n",
    "combined[categorical_cols] = combined[categorical_cols].apply(lambda col: le.fit_transform(col))\n",
    "combined[categorical_cols].head(10)"
   ]
  },
  {
   "cell_type": "code",
   "execution_count": 46,
   "metadata": {},
   "outputs": [],
   "source": [
    "\n",
    "new_x  = combined[combined['train'] == 1].copy()\n",
    "new_x1 = combined[combined['train']==0].copy()\n",
    "new_x.drop(columns= 'train',inplace=True,axis=1)\n",
    "new_x1.drop(columns='train',inplace=True,axis=1)\n"
   ]
  },
  {
   "cell_type": "code",
   "execution_count": 47,
   "metadata": {},
   "outputs": [],
   "source": [
    "X_train, X_val, Y_train, Y_val = train_test_split(new_x, y, test_size = 0.1, random_state = 1)"
   ]
  },
  {
   "cell_type": "code",
   "execution_count": 48,
   "metadata": {},
   "outputs": [
    {
     "name": "stdout",
     "output_type": "stream",
     "text": [
      "4\n",
      "KFold(n_splits=4, random_state=None, shuffle=False)\n"
     ]
    }
   ],
   "source": [
    "from sklearn.model_selection import KFold\n",
    "\n",
    "kf = KFold(n_splits=4) \n",
    "print(kf.get_n_splits(new_x))\n",
    "\n",
    "print(kf) "
   ]
  },
  {
   "cell_type": "code",
   "execution_count": 49,
   "metadata": {},
   "outputs": [
    {
     "name": "stdout",
     "output_type": "stream",
     "text": [
      "TRAIN: [1505 1506 1507 ... 6016 6017 6018] TEST [   0    1    2 ... 1502 1503 1504]\n",
      "TRAIN: [   0    1    2 ... 6016 6017 6018] TEST [1505 1506 1507 ... 3007 3008 3009]\n",
      "TRAIN: [   0    1    2 ... 6016 6017 6018] TEST [3010 3011 3012 ... 4512 4513 4514]\n",
      "TRAIN: [   0    1    2 ... 4512 4513 4514] TEST [4515 4516 4517 ... 6016 6017 6018]\n"
     ]
    }
   ],
   "source": [
    "for train_index, test_index in kf.split(new_x):\n",
    "    print(\"TRAIN:\", train_index, \"TEST\", test_index)\n",
    "#     X_train, X_val = new_x[train_index], new_x[test_index]\n",
    "#     Y_train, Y_val = y[train_index], y[test_index]"
   ]
  },
  {
   "cell_type": "code",
   "execution_count": 50,
   "metadata": {},
   "outputs": [],
   "source": [
    "from sklearn.preprocessing import StandardScaler\n",
    "sc = StandardScaler()\n",
    "\n",
    "#Scaling Original Training Data\n",
    "new_x = sc.fit_transform(new_x)\n",
    "\n",
    "#Reshaping vector to array for transforming\n",
    "y = y.reshape((len(y), 1))\n",
    "y = sc.fit_transform(y)\n",
    "#converting back to vector\n",
    "y = y.ravel()\n",
    "\n",
    "new_x1 = sc.transform(new_x1)\n",
    "\n",
    "# Scaling Splitted training and val sets\n",
    "X_train = sc.fit_transform(X_train)\n",
    "X_val = sc.fit_transform(X_val)\n",
    "\n",
    "#Reshaping vector to array for transforming\n",
    "Y_train = Y_train.reshape((len(Y_train), 1)) \n",
    "Y_train = sc.fit_transform(Y_train)\n",
    "#converting back to vector\n",
    "Y_train = Y_train.ravel()"
   ]
  },
  {
   "cell_type": "code",
   "execution_count": 51,
   "metadata": {},
   "outputs": [],
   "source": [
    "def score(y_pred, y_true):\n",
    "   error = np.square(np.log10(y_pred +1) - np.log10(y_true +1)).mean() ** 0.5\n",
    "   score = 1 - error\n",
    "   return score\n",
    "\n",
    "#The actual recordings to be tested against\n",
    "# y_true = Y_val"
   ]
  },
  {
   "cell_type": "code",
   "execution_count": 56,
   "metadata": {},
   "outputs": [],
   "source": [
    "model = xgboost.XGBRegressor(colsample_bytree=0.4,\n",
    "                 gamma=0,                 \n",
    "                 learning_rate=0.07,\n",
    "                 max_depth=3,\n",
    "                 min_child_weight=1.5,\n",
    "                 n_estimators=10000,                                                                    \n",
    "                 reg_alpha=0.75,\n",
    "                 reg_lambda=0.45,\n",
    "                 subsample=0.6,\n",
    "                 seed=42,\n",
    "                            silent=0) "
   ]
  },
  {
   "cell_type": "code",
   "execution_count": 57,
   "metadata": {},
   "outputs": [
    {
     "name": "stdout",
     "output_type": "stream",
     "text": [
      "[20:13:10] WARNING: C:/Jenkins/workspace/xgboost-win64_release_0.90/src/objective/regression_obj.cu:152: reg:linear is now deprecated in favor of reg:squarederror.\n"
     ]
    },
    {
     "data": {
      "text/plain": [
       "XGBRegressor(base_score=0.5, booster='gbtree', colsample_bylevel=1,\n",
       "             colsample_bynode=1, colsample_bytree=0.4, gamma=0,\n",
       "             importance_type='gain', learning_rate=0.07, max_delta_step=0,\n",
       "             max_depth=3, min_child_weight=1.5, missing=None,\n",
       "             n_estimators=10000, n_jobs=1, nthread=None, objective='reg:linear',\n",
       "             random_state=0, reg_alpha=0.75, reg_lambda=0.45,\n",
       "             scale_pos_weight=1, seed=42, silent=0, subsample=0.6, verbosity=1)"
      ]
     },
     "execution_count": 57,
     "metadata": {},
     "output_type": "execute_result"
    }
   ],
   "source": [
    "model.fit(X_train,Y_train)"
   ]
  },
  {
   "cell_type": "code",
   "execution_count": 58,
   "metadata": {},
   "outputs": [
    {
     "data": {
      "text/plain": [
       "<matplotlib.axes._subplots.AxesSubplot at 0x18ff797a668>"
      ]
     },
     "execution_count": 58,
     "metadata": {},
     "output_type": "execute_result"
    },
    {
     "data": {
      "image/png": "[encoded data removed]",
      "text/plain": [
       "<Figure size 720x576 with 1 Axes>"
      ]
     },
     "metadata": {},
     "output_type": "display_data"
    }
   ],
   "source": [
    "# set figsize\n",
    "\n",
    "from IPython.core.pylabtools import figsize\n",
    "figsize(10,8)\n",
    "\n",
    "# plot styple\n",
    "plt.style.use('fivethirtyeight')\n",
    "\n",
    "# plot feature importance\n",
    "xgboost.plot_importance(model)"
   ]
  },
  {
   "cell_type": "code",
   "execution_count": 59,
   "metadata": {},
   "outputs": [
    {
     "data": {
      "text/plain": [
       "(5417, 12)"
      ]
     },
     "execution_count": 59,
     "metadata": {},
     "output_type": "execute_result"
    }
   ],
   "source": [
    "X_train.shape"
   ]
  },
  {
   "cell_type": "code",
   "execution_count": 60,
   "metadata": {},
   "outputs": [],
   "source": [
    "# Y_pred=sc.inverse_transform(model.predict(X_val))"
   ]
  },
  {
   "cell_type": "code",
   "execution_count": 61,
   "metadata": {},
   "outputs": [
    {
     "name": "stdout",
     "output_type": "stream",
     "text": [
      "xg boost SCORE :  0.8769390593926911\n"
     ]
    }
   ],
   "source": [
    "for i in range(len(Y_pred)):\n",
    "   if Y_pred[i] < 0:\n",
    "       Y_pred[i] = 0\n",
    "\n",
    "#Printing the score for validation sets\n",
    "print(\"\\n\\n xg boost SCORE : \", score(Y_pred, Y_val))\n",
    "print(\"xg boost SCORE :  0.8769390593926911\")\n",
    "# score(aa,Y_val)"
   ]
  },
  {
   "cell_type": "code",
   "execution_count": 62,
   "metadata": {},
   "outputs": [
    {
     "name": "stdout",
     "output_type": "stream",
     "text": [
      "XGBRegressor(base_score=0.5, booster='gbtree', colsample_bylevel=1,\n",
      "       colsample_bynode=1, colsample_bytree=0.4, gamma=0,\n",
      "       importance_type='gain', learning_rate=0.07, max_delta_step=0,\n",
      "       max_depth=3, min_child_weight=1.5, missing=None, n_estimators=10000,\n",
      "       n_jobs=1, nthread=None, objective='reg:linear', random_state=0,\n",
      "       reg_alpha=0.75, reg_lambda=0.45, scale_pos_weight=1, seed=42,\n",
      "       silent=0, subsample=0.6, verbosity=1)\n"
     ]
    }
   ],
   "source": [
    "model.fit(new_x,y)"
   ]
  },
  {
   "cell_type": "code",
   "execution_count": 63,
   "metadata": {},
   "outputs": [],
   "source": [
    "Y_pred2=sc.inverse_transform(model.predict(new_x1))"
   ]
  },
  {
   "cell_type": "code",
   "execution_count": 64,
   "metadata": {},
   "outputs": [],
   "source": [
    "for i in range(len(Y_pred2)):\n",
    "   if Y_pred2[i] < 0:\n",
    "       Y_pred2[i] = 0"
   ]
  },
  {
   "cell_type": "code",
   "execution_count": 65,
   "metadata": {},
   "outputs": [],
   "source": [
    "pd.DataFrame(Y_pred2, columns = ['Price']).to_excel(\"predictions11.xlsx\",index=False)"
   ]
  }
 ],
 "metadata": {
  "kernelspec": {
   "display_name": "Python 3",
   "language": "python",
   "name": "python3"
  },
  "language_info": {
   "codemirror_mode": {
    "name": "ipython",
    "version": 3
   },
   "file_extension": ".py",
   "mimetype": "text/x-python",
   "name": "python",
   "nbconvert_exporter": "python",
   "pygments_lexer": "ipython3",
   "version": "3.7.3"
  }
 },
 "nbformat": 4,
 "nbformat_minor": 2
}
